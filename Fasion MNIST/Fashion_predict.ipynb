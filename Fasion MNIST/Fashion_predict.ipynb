{
  "nbformat": 4,
  "nbformat_minor": 0,
  "metadata": {
    "colab": {
      "name": "Fashion_predict.ipynb",
      "provenance": [],
      "mount_file_id": "1UYzJiSUqBANUwX1IkfdxXaNwHqf98hf4",
      "authorship_tag": "ABX9TyMbkcb25TTBsOqylYTayUOz",
      "include_colab_link": true
    },
    "kernelspec": {
      "name": "python3",
      "display_name": "Python 3"
    },
    "language_info": {
      "name": "python"
    }
  },
  "cells": [
    {
      "cell_type": "markdown",
      "metadata": {
        "id": "view-in-github",
        "colab_type": "text"
      },
      "source": [
        "<a href=\"https://colab.research.google.com/github/zhurba/Colabs/blob/main/Fasion%20MNIST/Fashion_predict.ipynb\" target=\"_parent\"><img src=\"https://colab.research.google.com/assets/colab-badge.svg\" alt=\"Open In Colab\"/></a>"
      ]
    },
    {
      "cell_type": "markdown",
      "source": [
        "**Загрузка обученой нейросети**"
      ],
      "metadata": {
        "id": "LRzpowwgnNuE"
      }
    },
    {
      "cell_type": "code",
      "source": [
        "!wget \"https://drive.google.com/uc?export=download&id=1-OdJPSLsnjN9yLiwCScm4uVmOKWtlk8j\" -O fashion_mnist.h5"
      ],
      "metadata": {
        "id": "G3psliOwZ8r9"
      },
      "execution_count": null,
      "outputs": []
    },
    {
      "cell_type": "markdown",
      "source": [
        "Загрузка фотки, которую будем распознавать:"
      ],
      "metadata": {
        "id": "MAq0Y6Sxnkcc"
      }
    },
    {
      "cell_type": "code",
      "source": [
        "!wget https://github.com/zhurba/Colabs/raw/main/Fashion%20MNIST/img/bag.jpg -O predict.jpg"
      ],
      "metadata": {
        "id": "nw1kRMjjdc_X"
      },
      "execution_count": null,
      "outputs": []
    },
    {
      "cell_type": "code",
      "metadata": {
        "id": "u0LF7DomHezU"
      },
      "source": [
        "from tensorflow.keras.models import load_model\n",
        "from google.colab import files\n",
        "from IPython.display import Image\n",
        "from tensorflow.keras.preprocessing import image\n",
        "import numpy as np\n",
        "\n",
        "classes = ['футболка', 'брюки', 'свитер', 'платье', 'пальто', 'туфли', 'рубашка', 'кроссовки', 'сумка', 'ботинки']\n",
        "\n"
      ],
      "execution_count": 12,
      "outputs": []
    },
    {
      "cell_type": "code",
      "source": [
        "model = load_model(\"/content/drive/MyDrive/Colab Notebooks/Fashion MNIST/fashion_mnist.h5\")\n",
        "model.summary()"
      ],
      "metadata": {
        "colab": {
          "base_uri": "https://localhost:8080/"
        },
        "id": "HD84xTx3bJAf",
        "outputId": "20aaaf4d-a039-4d1c-ce00-8b1b04935ffd"
      },
      "execution_count": 14,
      "outputs": [
        {
          "output_type": "stream",
          "name": "stdout",
          "text": [
            "Model: \"sequential_12\"\n",
            "_________________________________________________________________\n",
            " Layer (type)                Output Shape              Param #   \n",
            "=================================================================\n",
            " dense_27 (Dense)            (None, 800)               628000    \n",
            "                                                                 \n",
            " dense_28 (Dense)            (None, 900)               720900    \n",
            "                                                                 \n",
            " dense_29 (Dense)            (None, 10)                9010      \n",
            "                                                                 \n",
            "=================================================================\n",
            "Total params: 1,357,910\n",
            "Trainable params: 1,357,910\n",
            "Non-trainable params: 0\n",
            "_________________________________________________________________\n"
          ]
        }
      ]
    },
    {
      "cell_type": "code",
      "source": [
        "model = load_model(\"fashion_mnist.h5\")\n",
        "model.summary()\n"
      ],
      "metadata": {
        "colab": {
          "base_uri": "https://localhost:8080/"
        },
        "id": "1ce6BLXubdgh",
        "outputId": "92fc5094-8945-45e4-d6b1-c0769ee0a219"
      },
      "execution_count": 21,
      "outputs": [
        {
          "output_type": "stream",
          "name": "stdout",
          "text": [
            "Model: \"sequential_12\"\n",
            "_________________________________________________________________\n",
            " Layer (type)                Output Shape              Param #   \n",
            "=================================================================\n",
            " dense_27 (Dense)            (None, 800)               628000    \n",
            "                                                                 \n",
            " dense_28 (Dense)            (None, 900)               720900    \n",
            "                                                                 \n",
            " dense_29 (Dense)            (None, 10)                9010      \n",
            "                                                                 \n",
            "=================================================================\n",
            "Total params: 1,357,910\n",
            "Trainable params: 1,357,910\n",
            "Non-trainable params: 0\n",
            "_________________________________________________________________\n"
          ]
        }
      ]
    }
  ]
}